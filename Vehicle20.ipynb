{
  "nbformat": 4,
  "nbformat_minor": 0,
  "metadata": {
    "colab": {
      "provenance": []
    },
    "kernelspec": {
      "name": "python3",
      "display_name": "Python 3"
    },
    "language_info": {
      "name": "python"
    }
  },
  "cells": [
    {
      "cell_type": "code",
      "execution_count": 1,
      "metadata": {
        "id": "p4UZx17doRp7"
      },
      "outputs": [],
      "source": [
        "import numpy as np\n",
        "import pandas as pd\n",
        "import matplotlib.pyplot as plt\n",
        "import seaborn as sns\n",
        "from scipy import stats\n"
      ]
    },
    {
      "cell_type": "markdown",
      "source": [
        "The above command is used to import all the necessary libraries for the dataset."
      ],
      "metadata": {
        "id": "jh9V9W36pPaY"
      }
    },
    {
      "cell_type": "code",
      "source": [
        "df = pd.read_csv('in-vehicle-coupon-recommendation.csv')"
      ],
      "metadata": {
        "id": "n5IDw9RjpeE8"
      },
      "execution_count": 2,
      "outputs": []
    },
    {
      "cell_type": "code",
      "source": [
        "df.head()"
      ],
      "metadata": {
        "colab": {
          "base_uri": "https://localhost:8080/",
          "height": 342
        },
        "id": "pCGXF9njpyQp",
        "outputId": "a1b0b726-eec9-4331-a416-73c6754c67ce"
      },
      "execution_count": 3,
      "outputs": [
        {
          "output_type": "execute_result",
          "data": {
            "text/plain": [
              "       destination  passanger weather  temperature  time  \\\n",
              "0  No Urgent Place      Alone   Sunny           55   2PM   \n",
              "1  No Urgent Place  Friend(s)   Sunny           80  10AM   \n",
              "2  No Urgent Place  Friend(s)   Sunny           80  10AM   \n",
              "3  No Urgent Place  Friend(s)   Sunny           80   2PM   \n",
              "4  No Urgent Place  Friend(s)   Sunny           80   2PM   \n",
              "\n",
              "                  coupon expiration  gender age      maritalStatus  ...  \\\n",
              "0        Restaurant(<20)         1d  Female  21  Unmarried partner  ...   \n",
              "1           Coffee House         2h  Female  21  Unmarried partner  ...   \n",
              "2  Carry out & Take away         2h  Female  21  Unmarried partner  ...   \n",
              "3           Coffee House         2h  Female  21  Unmarried partner  ...   \n",
              "4           Coffee House         1d  Female  21  Unmarried partner  ...   \n",
              "\n",
              "   CoffeeHouse CarryAway RestaurantLessThan20 Restaurant20To50  \\\n",
              "0        never       NaN                  4~8              1~3   \n",
              "1        never       NaN                  4~8              1~3   \n",
              "2        never       NaN                  4~8              1~3   \n",
              "3        never       NaN                  4~8              1~3   \n",
              "4        never       NaN                  4~8              1~3   \n",
              "\n",
              "  toCoupon_GEQ5min toCoupon_GEQ15min toCoupon_GEQ25min direction_same  \\\n",
              "0                1                 0                 0              0   \n",
              "1                1                 0                 0              0   \n",
              "2                1                 1                 0              0   \n",
              "3                1                 1                 0              0   \n",
              "4                1                 1                 0              0   \n",
              "\n",
              "  direction_opp  Y  \n",
              "0             1  1  \n",
              "1             1  0  \n",
              "2             1  1  \n",
              "3             1  0  \n",
              "4             1  0  \n",
              "\n",
              "[5 rows x 26 columns]"
            ],
            "text/html": [
              "\n",
              "  <div id=\"df-b465588b-04ad-4739-ade7-a6a7ac72fcb8\" class=\"colab-df-container\">\n",
              "    <div>\n",
              "<style scoped>\n",
              "    .dataframe tbody tr th:only-of-type {\n",
              "        vertical-align: middle;\n",
              "    }\n",
              "\n",
              "    .dataframe tbody tr th {\n",
              "        vertical-align: top;\n",
              "    }\n",
              "\n",
              "    .dataframe thead th {\n",
              "        text-align: right;\n",
              "    }\n",
              "</style>\n",
              "<table border=\"1\" class=\"dataframe\">\n",
              "  <thead>\n",
              "    <tr style=\"text-align: right;\">\n",
              "      <th></th>\n",
              "      <th>destination</th>\n",
              "      <th>passanger</th>\n",
              "      <th>weather</th>\n",
              "      <th>temperature</th>\n",
              "      <th>time</th>\n",
              "      <th>coupon</th>\n",
              "      <th>expiration</th>\n",
              "      <th>gender</th>\n",
              "      <th>age</th>\n",
              "      <th>maritalStatus</th>\n",
              "      <th>...</th>\n",
              "      <th>CoffeeHouse</th>\n",
              "      <th>CarryAway</th>\n",
              "      <th>RestaurantLessThan20</th>\n",
              "      <th>Restaurant20To50</th>\n",
              "      <th>toCoupon_GEQ5min</th>\n",
              "      <th>toCoupon_GEQ15min</th>\n",
              "      <th>toCoupon_GEQ25min</th>\n",
              "      <th>direction_same</th>\n",
              "      <th>direction_opp</th>\n",
              "      <th>Y</th>\n",
              "    </tr>\n",
              "  </thead>\n",
              "  <tbody>\n",
              "    <tr>\n",
              "      <th>0</th>\n",
              "      <td>No Urgent Place</td>\n",
              "      <td>Alone</td>\n",
              "      <td>Sunny</td>\n",
              "      <td>55</td>\n",
              "      <td>2PM</td>\n",
              "      <td>Restaurant(&lt;20)</td>\n",
              "      <td>1d</td>\n",
              "      <td>Female</td>\n",
              "      <td>21</td>\n",
              "      <td>Unmarried partner</td>\n",
              "      <td>...</td>\n",
              "      <td>never</td>\n",
              "      <td>NaN</td>\n",
              "      <td>4~8</td>\n",
              "      <td>1~3</td>\n",
              "      <td>1</td>\n",
              "      <td>0</td>\n",
              "      <td>0</td>\n",
              "      <td>0</td>\n",
              "      <td>1</td>\n",
              "      <td>1</td>\n",
              "    </tr>\n",
              "    <tr>\n",
              "      <th>1</th>\n",
              "      <td>No Urgent Place</td>\n",
              "      <td>Friend(s)</td>\n",
              "      <td>Sunny</td>\n",
              "      <td>80</td>\n",
              "      <td>10AM</td>\n",
              "      <td>Coffee House</td>\n",
              "      <td>2h</td>\n",
              "      <td>Female</td>\n",
              "      <td>21</td>\n",
              "      <td>Unmarried partner</td>\n",
              "      <td>...</td>\n",
              "      <td>never</td>\n",
              "      <td>NaN</td>\n",
              "      <td>4~8</td>\n",
              "      <td>1~3</td>\n",
              "      <td>1</td>\n",
              "      <td>0</td>\n",
              "      <td>0</td>\n",
              "      <td>0</td>\n",
              "      <td>1</td>\n",
              "      <td>0</td>\n",
              "    </tr>\n",
              "    <tr>\n",
              "      <th>2</th>\n",
              "      <td>No Urgent Place</td>\n",
              "      <td>Friend(s)</td>\n",
              "      <td>Sunny</td>\n",
              "      <td>80</td>\n",
              "      <td>10AM</td>\n",
              "      <td>Carry out &amp; Take away</td>\n",
              "      <td>2h</td>\n",
              "      <td>Female</td>\n",
              "      <td>21</td>\n",
              "      <td>Unmarried partner</td>\n",
              "      <td>...</td>\n",
              "      <td>never</td>\n",
              "      <td>NaN</td>\n",
              "      <td>4~8</td>\n",
              "      <td>1~3</td>\n",
              "      <td>1</td>\n",
              "      <td>1</td>\n",
              "      <td>0</td>\n",
              "      <td>0</td>\n",
              "      <td>1</td>\n",
              "      <td>1</td>\n",
              "    </tr>\n",
              "    <tr>\n",
              "      <th>3</th>\n",
              "      <td>No Urgent Place</td>\n",
              "      <td>Friend(s)</td>\n",
              "      <td>Sunny</td>\n",
              "      <td>80</td>\n",
              "      <td>2PM</td>\n",
              "      <td>Coffee House</td>\n",
              "      <td>2h</td>\n",
              "      <td>Female</td>\n",
              "      <td>21</td>\n",
              "      <td>Unmarried partner</td>\n",
              "      <td>...</td>\n",
              "      <td>never</td>\n",
              "      <td>NaN</td>\n",
              "      <td>4~8</td>\n",
              "      <td>1~3</td>\n",
              "      <td>1</td>\n",
              "      <td>1</td>\n",
              "      <td>0</td>\n",
              "      <td>0</td>\n",
              "      <td>1</td>\n",
              "      <td>0</td>\n",
              "    </tr>\n",
              "    <tr>\n",
              "      <th>4</th>\n",
              "      <td>No Urgent Place</td>\n",
              "      <td>Friend(s)</td>\n",
              "      <td>Sunny</td>\n",
              "      <td>80</td>\n",
              "      <td>2PM</td>\n",
              "      <td>Coffee House</td>\n",
              "      <td>1d</td>\n",
              "      <td>Female</td>\n",
              "      <td>21</td>\n",
              "      <td>Unmarried partner</td>\n",
              "      <td>...</td>\n",
              "      <td>never</td>\n",
              "      <td>NaN</td>\n",
              "      <td>4~8</td>\n",
              "      <td>1~3</td>\n",
              "      <td>1</td>\n",
              "      <td>1</td>\n",
              "      <td>0</td>\n",
              "      <td>0</td>\n",
              "      <td>1</td>\n",
              "      <td>0</td>\n",
              "    </tr>\n",
              "  </tbody>\n",
              "</table>\n",
              "<p>5 rows × 26 columns</p>\n",
              "</div>\n",
              "    <div class=\"colab-df-buttons\">\n",
              "\n",
              "  <div class=\"colab-df-container\">\n",
              "    <button class=\"colab-df-convert\" onclick=\"convertToInteractive('df-b465588b-04ad-4739-ade7-a6a7ac72fcb8')\"\n",
              "            title=\"Convert this dataframe to an interactive table.\"\n",
              "            style=\"display:none;\">\n",
              "\n",
              "  <svg xmlns=\"http://www.w3.org/2000/svg\" height=\"24px\" viewBox=\"0 -960 960 960\">\n",
              "    <path d=\"M120-120v-720h720v720H120Zm60-500h600v-160H180v160Zm220 220h160v-160H400v160Zm0 220h160v-160H400v160ZM180-400h160v-160H180v160Zm440 0h160v-160H620v160ZM180-180h160v-160H180v160Zm440 0h160v-160H620v160Z\"/>\n",
              "  </svg>\n",
              "    </button>\n",
              "\n",
              "  <style>\n",
              "    .colab-df-container {\n",
              "      display:flex;\n",
              "      gap: 12px;\n",
              "    }\n",
              "\n",
              "    .colab-df-convert {\n",
              "      background-color: #E8F0FE;\n",
              "      border: none;\n",
              "      border-radius: 50%;\n",
              "      cursor: pointer;\n",
              "      display: none;\n",
              "      fill: #1967D2;\n",
              "      height: 32px;\n",
              "      padding: 0 0 0 0;\n",
              "      width: 32px;\n",
              "    }\n",
              "\n",
              "    .colab-df-convert:hover {\n",
              "      background-color: #E2EBFA;\n",
              "      box-shadow: 0px 1px 2px rgba(60, 64, 67, 0.3), 0px 1px 3px 1px rgba(60, 64, 67, 0.15);\n",
              "      fill: #174EA6;\n",
              "    }\n",
              "\n",
              "    .colab-df-buttons div {\n",
              "      margin-bottom: 4px;\n",
              "    }\n",
              "\n",
              "    [theme=dark] .colab-df-convert {\n",
              "      background-color: #3B4455;\n",
              "      fill: #D2E3FC;\n",
              "    }\n",
              "\n",
              "    [theme=dark] .colab-df-convert:hover {\n",
              "      background-color: #434B5C;\n",
              "      box-shadow: 0px 1px 3px 1px rgba(0, 0, 0, 0.15);\n",
              "      filter: drop-shadow(0px 1px 2px rgba(0, 0, 0, 0.3));\n",
              "      fill: #FFFFFF;\n",
              "    }\n",
              "  </style>\n",
              "\n",
              "    <script>\n",
              "      const buttonEl =\n",
              "        document.querySelector('#df-b465588b-04ad-4739-ade7-a6a7ac72fcb8 button.colab-df-convert');\n",
              "      buttonEl.style.display =\n",
              "        google.colab.kernel.accessAllowed ? 'block' : 'none';\n",
              "\n",
              "      async function convertToInteractive(key) {\n",
              "        const element = document.querySelector('#df-b465588b-04ad-4739-ade7-a6a7ac72fcb8');\n",
              "        const dataTable =\n",
              "          await google.colab.kernel.invokeFunction('convertToInteractive',\n",
              "                                                    [key], {});\n",
              "        if (!dataTable) return;\n",
              "\n",
              "        const docLinkHtml = 'Like what you see? Visit the ' +\n",
              "          '<a target=\"_blank\" href=https://colab.research.google.com/notebooks/data_table.ipynb>data table notebook</a>'\n",
              "          + ' to learn more about interactive tables.';\n",
              "        element.innerHTML = '';\n",
              "        dataTable['output_type'] = 'display_data';\n",
              "        await google.colab.output.renderOutput(dataTable, element);\n",
              "        const docLink = document.createElement('div');\n",
              "        docLink.innerHTML = docLinkHtml;\n",
              "        element.appendChild(docLink);\n",
              "      }\n",
              "    </script>\n",
              "  </div>\n",
              "\n",
              "\n",
              "<div id=\"df-3094f57d-8547-4e79-9f39-724883e32406\">\n",
              "  <button class=\"colab-df-quickchart\" onclick=\"quickchart('df-3094f57d-8547-4e79-9f39-724883e32406')\"\n",
              "            title=\"Suggest charts\"\n",
              "            style=\"display:none;\">\n",
              "\n",
              "<svg xmlns=\"http://www.w3.org/2000/svg\" height=\"24px\"viewBox=\"0 0 24 24\"\n",
              "     width=\"24px\">\n",
              "    <g>\n",
              "        <path d=\"M19 3H5c-1.1 0-2 .9-2 2v14c0 1.1.9 2 2 2h14c1.1 0 2-.9 2-2V5c0-1.1-.9-2-2-2zM9 17H7v-7h2v7zm4 0h-2V7h2v10zm4 0h-2v-4h2v4z\"/>\n",
              "    </g>\n",
              "</svg>\n",
              "  </button>\n",
              "\n",
              "<style>\n",
              "  .colab-df-quickchart {\n",
              "      --bg-color: #E8F0FE;\n",
              "      --fill-color: #1967D2;\n",
              "      --hover-bg-color: #E2EBFA;\n",
              "      --hover-fill-color: #174EA6;\n",
              "      --disabled-fill-color: #AAA;\n",
              "      --disabled-bg-color: #DDD;\n",
              "  }\n",
              "\n",
              "  [theme=dark] .colab-df-quickchart {\n",
              "      --bg-color: #3B4455;\n",
              "      --fill-color: #D2E3FC;\n",
              "      --hover-bg-color: #434B5C;\n",
              "      --hover-fill-color: #FFFFFF;\n",
              "      --disabled-bg-color: #3B4455;\n",
              "      --disabled-fill-color: #666;\n",
              "  }\n",
              "\n",
              "  .colab-df-quickchart {\n",
              "    background-color: var(--bg-color);\n",
              "    border: none;\n",
              "    border-radius: 50%;\n",
              "    cursor: pointer;\n",
              "    display: none;\n",
              "    fill: var(--fill-color);\n",
              "    height: 32px;\n",
              "    padding: 0;\n",
              "    width: 32px;\n",
              "  }\n",
              "\n",
              "  .colab-df-quickchart:hover {\n",
              "    background-color: var(--hover-bg-color);\n",
              "    box-shadow: 0 1px 2px rgba(60, 64, 67, 0.3), 0 1px 3px 1px rgba(60, 64, 67, 0.15);\n",
              "    fill: var(--button-hover-fill-color);\n",
              "  }\n",
              "\n",
              "  .colab-df-quickchart-complete:disabled,\n",
              "  .colab-df-quickchart-complete:disabled:hover {\n",
              "    background-color: var(--disabled-bg-color);\n",
              "    fill: var(--disabled-fill-color);\n",
              "    box-shadow: none;\n",
              "  }\n",
              "\n",
              "  .colab-df-spinner {\n",
              "    border: 2px solid var(--fill-color);\n",
              "    border-color: transparent;\n",
              "    border-bottom-color: var(--fill-color);\n",
              "    animation:\n",
              "      spin 1s steps(1) infinite;\n",
              "  }\n",
              "\n",
              "  @keyframes spin {\n",
              "    0% {\n",
              "      border-color: transparent;\n",
              "      border-bottom-color: var(--fill-color);\n",
              "      border-left-color: var(--fill-color);\n",
              "    }\n",
              "    20% {\n",
              "      border-color: transparent;\n",
              "      border-left-color: var(--fill-color);\n",
              "      border-top-color: var(--fill-color);\n",
              "    }\n",
              "    30% {\n",
              "      border-color: transparent;\n",
              "      border-left-color: var(--fill-color);\n",
              "      border-top-color: var(--fill-color);\n",
              "      border-right-color: var(--fill-color);\n",
              "    }\n",
              "    40% {\n",
              "      border-color: transparent;\n",
              "      border-right-color: var(--fill-color);\n",
              "      border-top-color: var(--fill-color);\n",
              "    }\n",
              "    60% {\n",
              "      border-color: transparent;\n",
              "      border-right-color: var(--fill-color);\n",
              "    }\n",
              "    80% {\n",
              "      border-color: transparent;\n",
              "      border-right-color: var(--fill-color);\n",
              "      border-bottom-color: var(--fill-color);\n",
              "    }\n",
              "    90% {\n",
              "      border-color: transparent;\n",
              "      border-bottom-color: var(--fill-color);\n",
              "    }\n",
              "  }\n",
              "</style>\n",
              "\n",
              "  <script>\n",
              "    async function quickchart(key) {\n",
              "      const quickchartButtonEl =\n",
              "        document.querySelector('#' + key + ' button');\n",
              "      quickchartButtonEl.disabled = true;  // To prevent multiple clicks.\n",
              "      quickchartButtonEl.classList.add('colab-df-spinner');\n",
              "      try {\n",
              "        const charts = await google.colab.kernel.invokeFunction(\n",
              "            'suggestCharts', [key], {});\n",
              "      } catch (error) {\n",
              "        console.error('Error during call to suggestCharts:', error);\n",
              "      }\n",
              "      quickchartButtonEl.classList.remove('colab-df-spinner');\n",
              "      quickchartButtonEl.classList.add('colab-df-quickchart-complete');\n",
              "    }\n",
              "    (() => {\n",
              "      let quickchartButtonEl =\n",
              "        document.querySelector('#df-3094f57d-8547-4e79-9f39-724883e32406 button');\n",
              "      quickchartButtonEl.style.display =\n",
              "        google.colab.kernel.accessAllowed ? 'block' : 'none';\n",
              "    })();\n",
              "  </script>\n",
              "</div>\n",
              "\n",
              "    </div>\n",
              "  </div>\n"
            ],
            "application/vnd.google.colaboratory.intrinsic+json": {
              "type": "dataframe",
              "variable_name": "df"
            }
          },
          "metadata": {},
          "execution_count": 3
        }
      ]
    },
    {
      "cell_type": "markdown",
      "source": [
        "The above command displays the first few rows of the dataset."
      ],
      "metadata": {
        "id": "biuSKiOwp3qW"
      }
    },
    {
      "cell_type": "code",
      "source": [
        "\n",
        "\n",
        "for column in df.select_dtypes(include=['object']).columns:\n",
        "\n",
        "    try:\n",
        "        df[column] = pd.to_numeric(df[column])\n",
        "    except ValueError:\n",
        "\n",
        "        print(f\"Column '{column}' could not be converted to numeric and might need to be handled separately.\")\n",
        "\n",
        "        df = df.drop(columns=[column])\n",
        "\n",
        "\n",
        "Q1 = df.quantile(0.25)\n",
        "Q3 = df.quantile(0.75)\n",
        "IQR = Q3 - Q1\n",
        "outliers_iqr = ((df < (Q1 - 1.5 * IQR)) | (df > (Q3 + 1.5 * IQR)))\n",
        "outliers_iqr_sum = outliers_iqr.sum()\n",
        "outliers_iqr_sum"
      ],
      "metadata": {
        "colab": {
          "base_uri": "https://localhost:8080/",
          "height": 681
        },
        "id": "ks4QNRMTqBo-",
        "outputId": "873c80be-2204-4f74-8e56-2e450b481952"
      },
      "execution_count": 7,
      "outputs": [
        {
          "output_type": "stream",
          "name": "stdout",
          "text": [
            "Column 'destination' could not be converted to numeric and might need to be handled separately.\n",
            "Column 'passanger' could not be converted to numeric and might need to be handled separately.\n",
            "Column 'weather' could not be converted to numeric and might need to be handled separately.\n",
            "Column 'time' could not be converted to numeric and might need to be handled separately.\n",
            "Column 'coupon' could not be converted to numeric and might need to be handled separately.\n",
            "Column 'expiration' could not be converted to numeric and might need to be handled separately.\n",
            "Column 'gender' could not be converted to numeric and might need to be handled separately.\n",
            "Column 'age' could not be converted to numeric and might need to be handled separately.\n",
            "Column 'maritalStatus' could not be converted to numeric and might need to be handled separately.\n",
            "Column 'education' could not be converted to numeric and might need to be handled separately.\n",
            "Column 'occupation' could not be converted to numeric and might need to be handled separately.\n",
            "Column 'income' could not be converted to numeric and might need to be handled separately.\n",
            "Column 'car' could not be converted to numeric and might need to be handled separately.\n",
            "Column 'Bar' could not be converted to numeric and might need to be handled separately.\n",
            "Column 'CoffeeHouse' could not be converted to numeric and might need to be handled separately.\n",
            "Column 'CarryAway' could not be converted to numeric and might need to be handled separately.\n",
            "Column 'RestaurantLessThan20' could not be converted to numeric and might need to be handled separately.\n",
            "Column 'Restaurant20To50' could not be converted to numeric and might need to be handled separately.\n"
          ]
        },
        {
          "output_type": "execute_result",
          "data": {
            "text/plain": [
              "temperature             0\n",
              "has_children            0\n",
              "toCoupon_GEQ5min        0\n",
              "toCoupon_GEQ15min       0\n",
              "toCoupon_GEQ25min    1511\n",
              "direction_same       2724\n",
              "direction_opp        2724\n",
              "Y                       0\n",
              "dtype: int64"
            ],
            "text/html": [
              "<div>\n",
              "<style scoped>\n",
              "    .dataframe tbody tr th:only-of-type {\n",
              "        vertical-align: middle;\n",
              "    }\n",
              "\n",
              "    .dataframe tbody tr th {\n",
              "        vertical-align: top;\n",
              "    }\n",
              "\n",
              "    .dataframe thead th {\n",
              "        text-align: right;\n",
              "    }\n",
              "</style>\n",
              "<table border=\"1\" class=\"dataframe\">\n",
              "  <thead>\n",
              "    <tr style=\"text-align: right;\">\n",
              "      <th></th>\n",
              "      <th>0</th>\n",
              "    </tr>\n",
              "  </thead>\n",
              "  <tbody>\n",
              "    <tr>\n",
              "      <th>temperature</th>\n",
              "      <td>0</td>\n",
              "    </tr>\n",
              "    <tr>\n",
              "      <th>has_children</th>\n",
              "      <td>0</td>\n",
              "    </tr>\n",
              "    <tr>\n",
              "      <th>toCoupon_GEQ5min</th>\n",
              "      <td>0</td>\n",
              "    </tr>\n",
              "    <tr>\n",
              "      <th>toCoupon_GEQ15min</th>\n",
              "      <td>0</td>\n",
              "    </tr>\n",
              "    <tr>\n",
              "      <th>toCoupon_GEQ25min</th>\n",
              "      <td>1511</td>\n",
              "    </tr>\n",
              "    <tr>\n",
              "      <th>direction_same</th>\n",
              "      <td>2724</td>\n",
              "    </tr>\n",
              "    <tr>\n",
              "      <th>direction_opp</th>\n",
              "      <td>2724</td>\n",
              "    </tr>\n",
              "    <tr>\n",
              "      <th>Y</th>\n",
              "      <td>0</td>\n",
              "    </tr>\n",
              "  </tbody>\n",
              "</table>\n",
              "</div><br><label><b>dtype:</b> int64</label>"
            ]
          },
          "metadata": {},
          "execution_count": 7
        }
      ]
    },
    {
      "cell_type": "markdown",
      "source": [
        "The Interquartile Range (IQR) method is used to identify outliers by determining the range between the 25th (Q1) and 75th (Q3) percentiles.\n",
        "For this :\n",
        "First  the data needs to be divided into Quartiles:\n",
        "\n",
        "Q1 (25th percentile): This is the median of the lower half of the dataset. It represents the value below which 25% of the data fall.\n",
        "\n",
        "Q3 (75th percentile): This is the median of the upper half of the dataset. It represents the value below which 75% of the data fall.\n",
        "\n",
        "\n",
        "Secondly we have to :Calculate the Interquartile Range (IQR): The IQR is the range between the 25th and 75th percentiles:\n",
        "\n",
        "IQR\n",
        "=\n",
        "𝑄\n",
        "3\n",
        "−\n",
        "𝑄\n",
        "1\n",
        "IQR=Q3−Q1"
      ],
      "metadata": {
        "id": "6urdSzbhrN2R"
      }
    },
    {
      "cell_type": "markdown",
      "source": [
        "For the third step we need to Determine the Boundaries for Outliers: To find potential outliers, calculate the \"fences,\" or boundaries beyond which data points are considered outliers. These fences are calculated using the IQR and a multiplier (commonly 1.5):\n",
        "\n",
        "Lower Bound:\n",
        "\n",
        "Lower Bound\n",
        "=\n",
        "𝑄\n",
        "1\n",
        "−\n",
        "1.5\n",
        "×\n",
        "IQR\n",
        "Lower Bound=Q1−1.5×IQR\n",
        "Upper Bound:\n",
        "\n",
        "Upper Bound\n",
        "=\n",
        "𝑄\n",
        "3\n",
        "+\n",
        "1.5\n",
        "×\n",
        "IQR\n",
        "Upper Bound=Q3+1.5×IQR\n",
        "\n",
        "Any data point that is below the lower bound or above the upper bound is considered an outlier."
      ],
      "metadata": {
        "id": "BfiVa2upsMbP"
      }
    },
    {
      "cell_type": "code",
      "source": [
        "# Identify outliers in numerical features using  Z-score\n",
        "z_scores = np.abs(stats.zscore(df.select_dtypes(include=[np.number])))\n",
        "outliers_z = (z_scores > 3)\n",
        "outliers_z_sum = outliers_z.sum()\n",
        "outliers_z_sum"
      ],
      "metadata": {
        "colab": {
          "base_uri": "https://localhost:8080/",
          "height": 335
        },
        "id": "YL9dRigVscmv",
        "outputId": "48812682-1c00-478f-f0ae-cd25b478f019"
      },
      "execution_count": 8,
      "outputs": [
        {
          "output_type": "execute_result",
          "data": {
            "text/plain": [
              "temperature          0\n",
              "has_children         0\n",
              "toCoupon_GEQ5min     0\n",
              "toCoupon_GEQ15min    0\n",
              "toCoupon_GEQ25min    0\n",
              "direction_same       0\n",
              "direction_opp        0\n",
              "Y                    0\n",
              "dtype: int64"
            ],
            "text/html": [
              "<div>\n",
              "<style scoped>\n",
              "    .dataframe tbody tr th:only-of-type {\n",
              "        vertical-align: middle;\n",
              "    }\n",
              "\n",
              "    .dataframe tbody tr th {\n",
              "        vertical-align: top;\n",
              "    }\n",
              "\n",
              "    .dataframe thead th {\n",
              "        text-align: right;\n",
              "    }\n",
              "</style>\n",
              "<table border=\"1\" class=\"dataframe\">\n",
              "  <thead>\n",
              "    <tr style=\"text-align: right;\">\n",
              "      <th></th>\n",
              "      <th>0</th>\n",
              "    </tr>\n",
              "  </thead>\n",
              "  <tbody>\n",
              "    <tr>\n",
              "      <th>temperature</th>\n",
              "      <td>0</td>\n",
              "    </tr>\n",
              "    <tr>\n",
              "      <th>has_children</th>\n",
              "      <td>0</td>\n",
              "    </tr>\n",
              "    <tr>\n",
              "      <th>toCoupon_GEQ5min</th>\n",
              "      <td>0</td>\n",
              "    </tr>\n",
              "    <tr>\n",
              "      <th>toCoupon_GEQ15min</th>\n",
              "      <td>0</td>\n",
              "    </tr>\n",
              "    <tr>\n",
              "      <th>toCoupon_GEQ25min</th>\n",
              "      <td>0</td>\n",
              "    </tr>\n",
              "    <tr>\n",
              "      <th>direction_same</th>\n",
              "      <td>0</td>\n",
              "    </tr>\n",
              "    <tr>\n",
              "      <th>direction_opp</th>\n",
              "      <td>0</td>\n",
              "    </tr>\n",
              "    <tr>\n",
              "      <th>Y</th>\n",
              "      <td>0</td>\n",
              "    </tr>\n",
              "  </tbody>\n",
              "</table>\n",
              "</div><br><label><b>dtype:</b> int64</label>"
            ]
          },
          "metadata": {},
          "execution_count": 8
        }
      ]
    },
    {
      "cell_type": "markdown",
      "source": [
        "The Z-score (also called a standard score) indicates how many standard deviations a particular data point is from the mean of the dataset. It tells you whether a value is above or below the average, and by how much, in terms of standard deviations.\n",
        "The formula to calculate the Z-score for a data point\n",
        "𝑥\n",
        "x is:\n",
        "\n",
        "𝑍\n",
        "=\n",
        "𝑥\n",
        "−\n",
        "𝜇/\n",
        "𝜎\n",
        "x = the data point\n",
        "\n",
        "𝜇\n",
        "μ = the mean of the dataset\n",
        "\n",
        "\n",
        "𝜎\n",
        "σ = the standard deviation of the dataset\n",
        "(calculated using formula)\n",
        "\n"
      ],
      "metadata": {
        "id": "V2Sll9oIuwLi"
      }
    },
    {
      "cell_type": "code",
      "source": [
        "numerical_cols = df.select_dtypes(include=[np.number]).columns\n",
        "plt.figure(figsize=(10, 6))\n"
      ],
      "metadata": {
        "colab": {
          "base_uri": "https://localhost:8080/",
          "height": 53
        },
        "id": "c4qsKkexvven",
        "outputId": "f80b7af6-78f0-472c-e2f0-c93d32bac94f"
      },
      "execution_count": 9,
      "outputs": [
        {
          "output_type": "execute_result",
          "data": {
            "text/plain": [
              "<Figure size 1000x600 with 0 Axes>"
            ]
          },
          "metadata": {},
          "execution_count": 9
        },
        {
          "output_type": "display_data",
          "data": {
            "text/plain": [
              "<Figure size 1000x600 with 0 Axes>"
            ]
          },
          "metadata": {}
        }
      ]
    },
    {
      "cell_type": "code",
      "source": [
        "\n",
        "\n",
        "\n",
        "numerical_cols = df.select_dtypes(include=['number']).columns\n",
        "\n",
        "\n",
        "num_cols = len(numerical_cols)\n",
        "num_rows = (num_cols + 2) // 3\n",
        "\n",
        "plt.figure(figsize=(12, num_rows * 4))\n",
        "\n",
        "for i, col in enumerate(numerical_cols):\n",
        "    plt.subplot(num_rows, 3, i + 1)\n",
        "    sns.boxplot(x=df[col])\n",
        "    plt.title(f'Box plot of {col}')\n",
        "\n",
        "plt.tight_layout()\n",
        "plt.show()"
      ],
      "metadata": {
        "colab": {
          "base_uri": "https://localhost:8080/",
          "height": 682
        },
        "id": "IP5WmhI6v6Um",
        "outputId": "8ec77565-6574-42de-e29d-b05a408b36da"
      },
      "execution_count": 12,
      "outputs": [
        {
          "output_type": "display_data",
          "data": {
            "text/plain": [
              "<Figure size 1200x1200 with 8 Axes>"
            ],
            "image/png": "[encoded data removed]"
          },
          "metadata": {}
        }
      ]
    },
    {
      "cell_type": "code",
      "source": [
        "import seaborn as sns\n",
        "import matplotlib.pyplot as plt\n",
        "\n",
        "\n",
        "\n",
        "\n",
        "x_column = 'temperature'\n",
        "y_column = 'has_children'\n",
        "\n",
        "sns.scatterplot(x=df[x_column], y=df[y_column])\n",
        "plt.title(f'Scatter Plot of {x_column} vs {y_column}')\n",
        "plt.show()"
      ],
      "metadata": {
        "colab": {
          "base_uri": "https://localhost:8080/",
          "height": 472
        },
        "id": "9F1Fv07PzmPu",
        "outputId": "013851ff-8db7-4219-fa08-f4948ad60bd9"
      },
      "execution_count": 19,
      "outputs": [
        {
          "output_type": "display_data",
          "data": {
            "text/plain": [
              "<Figure size 640x480 with 1 Axes>"
            ],
            "image/png": "[encoded data removed]"
          },
          "metadata": {}
        }
      ]
    },
    {
      "cell_type": "code",
      "source": [
        "df_cleaned_iqr = df[~outliers_iqr.any(axis=1)]"
      ],
      "metadata": {
        "id": "XGUkYQxexUhQ"
      },
      "execution_count": 15,
      "outputs": []
    },
    {
      "cell_type": "markdown",
      "source": [
        "The above command is used to remove outliers based on the IQR system."
      ],
      "metadata": {
        "id": "0U7y4URjyBdO"
      }
    },
    {
      "cell_type": "code",
      "source": [
        "df_capped_iqr = df.copy()\n",
        "df_capped_iqr = df_capped_iqr.apply(lambda x: np.clip(x, Q1[x.name] - 1.5 * IQR[x.name], Q3[x.name] + 1.5 * IQR[x.name]))"
      ],
      "metadata": {
        "id": "HHu4pSxuyOU9"
      },
      "execution_count": 16,
      "outputs": []
    },
    {
      "cell_type": "markdown",
      "source": [
        "The above command is used to cap the outliers without removing them by setting a maximum and a minimum value."
      ],
      "metadata": {
        "id": "db6noo6TyQAS"
      }
    },
    {
      "cell_type": "code",
      "source": [
        "df_transformed = df.copy()\n",
        "df_transformed = df_transformed.apply(lambda x: np.log1p(x) if x.min() > 0 else x)"
      ],
      "metadata": {
        "id": "J4w9T1D6ynUi"
      },
      "execution_count": 17,
      "outputs": []
    },
    {
      "cell_type": "markdown",
      "source": [
        "The above command is used to apply log transformation to the outliers."
      ],
      "metadata": {
        "id": "TZ3iVinCytmc"
      }
    },
    {
      "cell_type": "markdown",
      "source": [
        "The decision for of capping, removing and transformation is taken as:\n",
        "Are the outliers due to data errors or anomalies?\n",
        "\n",
        "Yes → Remove them.\n",
        "\n",
        "No → Move to the next question.\n",
        "\n",
        "Do the outliers represent valid extreme cases that are not errors but may distort analysis?\n",
        "\n",
        "Yes → Consider capping or transforming them.\n",
        "\n",
        "No → Proceed to the next question.\n",
        "\n",
        "Does removing outliers result in the loss of too much information?\n",
        "\n",
        "Yes → Consider capping or transforming.\n",
        "\n",
        "No → Remove outliers.\n",
        "\n",
        "Is the data distribution skewed or log-normal?\n",
        "\n",
        "Yes → Transform the data (e.g., log transformation).\n",
        "\n",
        "No → Consider capping.\n",
        "\n",
        "Do you want to preserve all data points but reduce the effect of outliers?\n",
        "\n",
        "Yes → Cap the outliers.\n",
        "\n",
        "No → Remove or transform."
      ],
      "metadata": {
        "id": "iW5iaTy4z_Bs"
      }
    },
    {
      "cell_type": "code",
      "source": [
        "df.describe(), df_cleaned_iqr.describe(), df_capped_iqr.describe(), df_transformed.describe()"
      ],
      "metadata": {
        "colab": {
          "base_uri": "https://localhost:8080/"
        },
        "id": "w4u5wrEQy2xD",
        "outputId": "0b08071b-edb7-4c67-e7a0-3ada5cf33b8f"
      },
      "execution_count": 18,
      "outputs": [
        {
          "output_type": "execute_result",
          "data": {
            "text/plain": [
              "(        temperature  has_children  toCoupon_GEQ5min  toCoupon_GEQ15min  \\\n",
              " count  12684.000000  12684.000000           12684.0       12684.000000   \n",
              " mean      63.301798      0.414144               1.0           0.561495   \n",
              " std       19.154486      0.492593               0.0           0.496224   \n",
              " min       30.000000      0.000000               1.0           0.000000   \n",
              " 25%       55.000000      0.000000               1.0           0.000000   \n",
              " 50%       80.000000      0.000000               1.0           1.000000   \n",
              " 75%       80.000000      1.000000               1.0           1.000000   \n",
              " max       80.000000      1.000000               1.0           1.000000   \n",
              " \n",
              "        toCoupon_GEQ25min  direction_same  direction_opp             Y  \n",
              " count       12684.000000    12684.000000   12684.000000  12684.000000  \n",
              " mean            0.119126        0.214759       0.785241      0.568433  \n",
              " std             0.323950        0.410671       0.410671      0.495314  \n",
              " min             0.000000        0.000000       0.000000      0.000000  \n",
              " 25%             0.000000        0.000000       1.000000      0.000000  \n",
              " 50%             0.000000        0.000000       1.000000      1.000000  \n",
              " 75%             0.000000        0.000000       1.000000      1.000000  \n",
              " max             1.000000        1.000000       1.000000      1.000000  ,\n",
              "        temperature  has_children  toCoupon_GEQ5min  toCoupon_GEQ15min  \\\n",
              " count  8449.000000   8449.000000            8449.0        8449.000000   \n",
              " mean     64.169724      0.427033               1.0           0.575926   \n",
              " std      18.754578      0.494676               0.0           0.494231   \n",
              " min      30.000000      0.000000               1.0           0.000000   \n",
              " 25%      55.000000      0.000000               1.0           0.000000   \n",
              " 50%      80.000000      0.000000               1.0           1.000000   \n",
              " 75%      80.000000      1.000000               1.0           1.000000   \n",
              " max      80.000000      1.000000               1.0           1.000000   \n",
              " \n",
              "        toCoupon_GEQ25min  direction_same  direction_opp            Y  \n",
              " count             8449.0          8449.0         8449.0  8449.000000  \n",
              " mean                 0.0             0.0            1.0     0.588945  \n",
              " std                  0.0             0.0            0.0     0.492054  \n",
              " min                  0.0             0.0            1.0     0.000000  \n",
              " 25%                  0.0             0.0            1.0     0.000000  \n",
              " 50%                  0.0             0.0            1.0     1.000000  \n",
              " 75%                  0.0             0.0            1.0     1.000000  \n",
              " max                  0.0             0.0            1.0     1.000000  ,\n",
              "         temperature  has_children  toCoupon_GEQ5min  toCoupon_GEQ15min  \\\n",
              " count  12684.000000  12684.000000           12684.0       12684.000000   \n",
              " mean      63.301798      0.414144               1.0           0.561495   \n",
              " std       19.154486      0.492593               0.0           0.496224   \n",
              " min       30.000000      0.000000               1.0           0.000000   \n",
              " 25%       55.000000      0.000000               1.0           0.000000   \n",
              " 50%       80.000000      0.000000               1.0           1.000000   \n",
              " 75%       80.000000      1.000000               1.0           1.000000   \n",
              " max       80.000000      1.000000               1.0           1.000000   \n",
              " \n",
              "        toCoupon_GEQ25min  direction_same  direction_opp             Y  \n",
              " count            12684.0         12684.0        12684.0  12684.000000  \n",
              " mean                 0.0             0.0            1.0      0.568433  \n",
              " std                  0.0             0.0            0.0      0.495314  \n",
              " min                  0.0             0.0            1.0      0.000000  \n",
              " 25%                  0.0             0.0            1.0      0.000000  \n",
              " 50%                  0.0             0.0            1.0      1.000000  \n",
              " 75%                  0.0             0.0            1.0      1.000000  \n",
              " max                  0.0             0.0            1.0      1.000000  ,\n",
              "         temperature  has_children  toCoupon_GEQ5min  toCoupon_GEQ15min  \\\n",
              " count  12684.000000  12684.000000      1.268400e+04       12684.000000   \n",
              " mean       4.107334      0.414144      6.931472e-01           0.561495   \n",
              " std        0.356732      0.492593      1.226845e-13           0.496224   \n",
              " min        3.433987      0.000000      6.931472e-01           0.000000   \n",
              " 25%        4.025352      0.000000      6.931472e-01           0.000000   \n",
              " 50%        4.394449      0.000000      6.931472e-01           1.000000   \n",
              " 75%        4.394449      1.000000      6.931472e-01           1.000000   \n",
              " max        4.394449      1.000000      6.931472e-01           1.000000   \n",
              " \n",
              "        toCoupon_GEQ25min  direction_same  direction_opp             Y  \n",
              " count       12684.000000    12684.000000   12684.000000  12684.000000  \n",
              " mean            0.119126        0.214759       0.785241      0.568433  \n",
              " std             0.323950        0.410671       0.410671      0.495314  \n",
              " min             0.000000        0.000000       0.000000      0.000000  \n",
              " 25%             0.000000        0.000000       1.000000      0.000000  \n",
              " 50%             0.000000        0.000000       1.000000      1.000000  \n",
              " 75%             0.000000        0.000000       1.000000      1.000000  \n",
              " max             1.000000        1.000000       1.000000      1.000000  )"
            ]
          },
          "metadata": {},
          "execution_count": 18
        }
      ]
    },
    {
      "cell_type": "markdown",
      "source": [
        "This command is used to finally compare the statistics of the original dataset and the handled dataset."
      ],
      "metadata": {
        "id": "3VdMW-sPzAm_"
      }
    }
  ]
}